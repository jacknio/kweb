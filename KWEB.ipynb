{
 "cells": [
  {
   "cell_type": "code",
   "execution_count": 1,
   "id": "ccb3113c",
   "metadata": {},
   "outputs": [
    {
     "name": "stderr",
     "output_type": "stream",
     "text": [
      "/Users/haofeng/opt/anaconda3/lib/python3.8/site-packages/scipy/__init__.py:146: UserWarning: A NumPy version >=1.16.5 and <1.23.0 is required for this version of SciPy (detected version 1.24.3\n",
      "  warnings.warn(f\"A NumPy version >={np_minversion} and <{np_maxversion}\"\n"
     ]
    }
   ],
   "source": [
    "import pandas as pd\n",
    "import numpy as np\n",
    "import matplotlib.pyplot as plt\n",
    "import warnings\n",
    "from scipy.stats import zscore\n",
    "from sklearn.decomposition import PCA\n",
    "from sklearn.linear_model import LinearRegression\n",
    "from datetime import date\n",
    "import yfinance as yf\n",
    "\n",
    "warnings.filterwarnings('ignore')\n",
    "import matplotlib.pyplot as plt\n",
    "import matplotlib.backends.backend_pdf\n",
    "import plotly.express as px\n",
    "import pandas_datareader.data as web  \n",
    "from pandas_datareader.famafrench import get_available_datasets"
   ]
  },
  {
   "cell_type": "code",
   "execution_count": 2,
   "id": "8d4c87bc",
   "metadata": {
    "scrolled": false
   },
   "outputs": [
    {
     "name": "stdout",
     "output_type": "stream",
     "text": [
      "[*********************100%%**********************]  1 of 1 completed\n",
      "[*********************100%%**********************]  1 of 1 completed\n",
      "[*********************100%%**********************]  1 of 1 completed\n",
      "[*********************100%%**********************]  1 of 1 completed\n",
      "[*********************100%%**********************]  1 of 1 completed\n",
      "[*********************100%%**********************]  1 of 1 completed\n",
      "[*********************100%%**********************]  1 of 1 completed\n",
      "[*********************100%%**********************]  1 of 1 completed\n",
      "[*********************100%%**********************]  1 of 1 completed\n",
      "[*********************100%%**********************]  1 of 1 completed\n",
      "[*********************100%%**********************]  1 of 1 completed\n",
      "[*********************100%%**********************]  1 of 1 completed\n",
      "[*********************100%%**********************]  1 of 1 completed\n",
      "[*********************100%%**********************]  1 of 1 completed\n",
      "[*********************100%%**********************]  1 of 1 completed\n",
      "[*********************100%%**********************]  1 of 1 completed\n",
      "[*********************100%%**********************]  1 of 1 completed\n",
      "[*********************100%%**********************]  1 of 1 completed\n",
      "[*********************100%%**********************]  1 of 1 completed\n"
     ]
    }
   ],
   "source": [
    "today = date.today()\n",
    "past = np.busday_offset(today, -200, roll='backward')\n",
    "\n",
    "# Create a dataframe for your tickers\n",
    "df_tickers = pd.DataFrame({\n",
    "    'Ticker': ['BABA', 'PDD', 'BEKE', 'BIDU', 'NTES', 'TCOM', 'VIPS', 'JD',\n",
    "               'TME', 'BILI', 'TAL', 'IQ', 'QFIN', 'ATHM', 'ATHM', 'CD', 'YY', 'WB', 'LU']})\n",
    "\n",
    "# Define a function to get the 'Open' prices\n",
    "def get_open_price(ticker, start_date= str(past), end_date= str(today)):\n",
    "    stock_data = yf.download(ticker, start=start_date, end=end_date)\n",
    "    return stock_data['Open']\n",
    "\n",
    "# Create a dataframe to hold 'Open' prices\n",
    "market = pd.DataFrame()\n",
    "\n",
    "for ticker in df_tickers['Ticker']:\n",
    "    market[ticker] = get_open_price(ticker)\n"
   ]
  },
  {
   "cell_type": "code",
   "execution_count": null,
   "id": "8afce390",
   "metadata": {},
   "outputs": [],
   "source": []
  },
  {
   "cell_type": "code",
   "execution_count": 4,
   "id": "7010ae0f",
   "metadata": {},
   "outputs": [],
   "source": [
    "top40=['BABA', 'PDD', 'BEKE', 'BIDU', 'NTES', 'TCOM', 'VIPS', 'JD', 'TME','BILI', 'TAL', 'IQ', 'QFIN', 'ATHM', 'CD', 'YY', 'WB', 'LU']"
   ]
  },
  {
   "cell_type": "code",
   "execution_count": 5,
   "id": "55aa6ec6",
   "metadata": {},
   "outputs": [],
   "source": [
    "class Factor(object):\n",
    "    def __init__(self,market,idx):\n",
    "        self.M = 50 #rolling windoes\n",
    "        self.market = market\n",
    "\n",
    "        self.hourly_return = None\n",
    "        self.eigenvalues = None\n",
    "        self.eigenvectors = None\n",
    "        self.Q = None\n",
    "        self.F = self.eigenportfolio(idx)\n",
    "        \n",
    "    def eigenportfolio(self,idx):\n",
    "\n",
    "        data_slice = self.market[idx-self.M:idx]\n",
    "        data_slice = data_slice.pct_change()\n",
    "        \n",
    "        tempdata = data_slice.iloc[1:]\n",
    "        self.hourly_return=tempdata\n",
    "        data_slice = self.hourly_return.apply(zscore,nan_policy = \"omit\")\n",
    "        cor = data_slice.corr()\n",
    "        cor.replace(np.nan, 0, inplace=True)\n",
    "        pca = PCA(n_components=2).fit(cor)\n",
    "        self.eigenvalues = pca.explained_variance_\n",
    "        self.eigenvectors = pca.components_\n",
    "\n",
    "        price_std = np.sqrt(np.array(data_slice.var()))\n",
    "        self.Q = self.eigenvectors/price_std\n",
    "        return self.Q@self.hourly_return.T"
   ]
  },
  {
   "cell_type": "code",
   "execution_count": 6,
   "id": "061a954f",
   "metadata": {},
   "outputs": [],
   "source": [
    "class Residuals(object):\n",
    "    def __init__(self,market,idx):\n",
    "        factor = Factor(market,idx)\n",
    "        self.top40 = top40\n",
    "        self.hourly_return = factor.hourly_return\n",
    "        self.F = factor.F\n",
    "        \n",
    "        self.residual = self.return_residual()\n",
    "        self.params = self.get_params()\n",
    "        self.s_score = self.get_s_score()\n",
    "        self.signal = self.trading_signal()\n",
    "    \n",
    "    def return_residual(self):\n",
    "        x = self.F.T\n",
    "        x.replace([np.nan,np.inf], 0, inplace=True)\n",
    "        residual = {}\n",
    "        for col in self.hourly_return.columns:\n",
    "            y = self.hourly_return.loc[:,col]\n",
    "            y.replace([np.nan,np.inf], 0, inplace=True)\n",
    "            lr1 = LinearRegression().fit(x,y)\n",
    "            pred_y = lr1.predict(x)\n",
    "            residual[col] = y - pred_y\n",
    "        return pd.DataFrame(residual)\n",
    "    \n",
    "    def get_params(self):\n",
    "        current = pd.DataFrame(np.cumsum(self.residual.values,axis=0))\n",
    "        previous = current[:-1]\n",
    "        current = current[1:]\n",
    "        \n",
    "        params = pd.DataFrame(index = [\"K\",\"m\",\"sigma\",\"sigma_eq\"])\n",
    "        for col in current.columns:\n",
    "            lr2 = LinearRegression().fit(previous[[col]],current[[col]])\n",
    "            pred_y2 = lr2.predict(previous[[col]])\n",
    "            A = float(lr2.intercept_)\n",
    "            B = float(lr2.coef_)\n",
    "            residual = current[[col]] - pred_y2\n",
    "\n",
    "            K = -np.log(B)*8760\n",
    "            m = A/(1-B)\n",
    "            sigma = np.sqrt((float(np.var(residual)) * 2*K)/(1 - B*B))\n",
    "            sigma_eq = sigma / np.sqrt(2*K)\n",
    "            params[col] = [K,m,sigma,sigma_eq]\n",
    "        return params\n",
    "    \n",
    "    def get_s_score(self):\n",
    "        return (self.residual.iloc[-1].values-self.params.loc['m'].values)/self.params.loc['sigma_eq'].values\n",
    "    \n",
    "    def trading_signal(self):\n",
    "        sig = {}\n",
    "        \n",
    "        s_bo = 1.25\n",
    "        s_so = 1.25\n",
    "        s_bc = 0.75\n",
    "        s_sc = 0.5\n",
    "        \n",
    "        for i in range(18):\n",
    "            score = self.s_score[i]\n",
    "            conditions = [(score<-s_bo),((-s_bo<= score)&(score<= -s_sc)), ((-s_sc<score)&(score<s_bc)),  ((s_bc<= score)&(score <= s_so)),(score > s_so)]\n",
    "            signal_values = [[\"Open_Long\",\"Close_Short\"],[\"Close_Short\"],[\"Close_Long\",\"Close_Short\"],[\"Close_Long\"],[\"Open_Short\",\"Close_Long\"]]\n",
    "            sig[self.top40[i]] = set(np.select(conditions,signal_values))\n",
    "        \n",
    "        return sig\n",
    "          "
   ]
  },
  {
   "cell_type": "code",
   "execution_count": 7,
   "id": "8c1ff50c",
   "metadata": {},
   "outputs": [
    {
     "data": {
      "text/plain": [
       "{'BABA': {'Close_Long', 'Close_Short'},\n",
       " 'PDD': {'Close_Long', 'Open_Short'},\n",
       " 'BEKE': {'Close_Long', 'Open_Short'},\n",
       " 'BIDU': {'Close_Long'},\n",
       " 'NTES': {'Close_Short', 'Open_Long'},\n",
       " 'TCOM': {'Close_Long', 'Close_Short'},\n",
       " 'VIPS': {'Close_Long', 'Close_Short'},\n",
       " 'JD': {'Close_Short'},\n",
       " 'TME': {'Close_Long'},\n",
       " 'BILI': {'Close_Short'},\n",
       " 'TAL': {'Close_Long', 'Close_Short'},\n",
       " 'IQ': {'Close_Long', 'Close_Short'},\n",
       " 'QFIN': {'Close_Short'},\n",
       " 'ATHM': {'Close_Short', 'Open_Long'},\n",
       " 'CD': {'Close_Short'},\n",
       " 'YY': {'Close_Long', 'Close_Short'},\n",
       " 'WB': {'Close_Short'},\n",
       " 'LU': {'Close_Short', 'Open_Long'}}"
      ]
     },
     "execution_count": 7,
     "metadata": {},
     "output_type": "execute_result"
    }
   ],
   "source": [
    "Residuals(market,len(market['BABA'])).signal"
   ]
  },
  {
   "cell_type": "code",
   "execution_count": null,
   "id": "4662a80c",
   "metadata": {},
   "outputs": [],
   "source": []
  },
  {
   "cell_type": "code",
   "execution_count": null,
   "id": "0d1556e2",
   "metadata": {},
   "outputs": [],
   "source": []
  },
  {
   "cell_type": "code",
   "execution_count": null,
   "id": "1d17d62a",
   "metadata": {},
   "outputs": [],
   "source": []
  },
  {
   "cell_type": "code",
   "execution_count": null,
   "id": "8bf3ce0a",
   "metadata": {},
   "outputs": [],
   "source": []
  }
 ],
 "metadata": {
  "kernelspec": {
   "display_name": "Python 3 (ipykernel)",
   "language": "python",
   "name": "python3"
  },
  "language_info": {
   "codemirror_mode": {
    "name": "ipython",
    "version": 3
   },
   "file_extension": ".py",
   "mimetype": "text/x-python",
   "name": "python",
   "nbconvert_exporter": "python",
   "pygments_lexer": "ipython3",
   "version": "3.8.3"
  }
 },
 "nbformat": 4,
 "nbformat_minor": 5
}
